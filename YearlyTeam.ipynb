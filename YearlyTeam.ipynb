{
 "cells": [
  {
   "cell_type": "code",
   "execution_count": 1,
   "metadata": {},
   "outputs": [],
   "source": [
    "import pandas as pd\n",
    "import numpy as np\n",
    "import matplotlib.pyplot as plt\n",
    "import seaborn as sns\n",
    "import re"
   ]
  },
  {
   "cell_type": "code",
   "execution_count": 2,
   "metadata": {},
   "outputs": [],
   "source": [
    "nba_teams_path = r\"C:/Users/shane/Downloads/Nba Teams Dataset.xlsx\"\n",
    "df_yearly_team_stats = pd.read_excel(nba_teams_path, sheet_name='Yearly Team Stats', header=None)\n",
    "\n",
    "# Remove first row \n",
    "df_yearly_team_stats = df_yearly_team_stats.drop(index=0).reset_index(drop=True)\n",
    "\n",
    "# Set the second row as the header and then remove the second row\n",
    "df_yearly_team_stats.columns = df_yearly_team_stats.iloc[0]\n",
    "df_yearly_team_stats = df_yearly_team_stats.drop(index=0).reset_index(drop=True)"
   ]
  },
  {
   "cell_type": "markdown",
   "metadata": {},
   "source": [
    "Data Cleaning"
   ]
  },
  {
   "cell_type": "code",
   "execution_count": 3,
   "metadata": {},
   "outputs": [],
   "source": [
    "# Rename columnd\n",
    "df_yearly_team_stats = df_yearly_team_stats.rename(columns={'#Team': 'Team'})\n",
    "df_yearly_team_stats = df_yearly_team_stats.rename(columns={'Year↓': 'Year'})\n",
    "\n",
    "# Drop last row of Df (totals row)\n",
    "df_yearly_team_stats = df_yearly_team_stats.drop(df_yearly_team_stats.index[-1])\n",
    "\n",
    "# Remove numbers from the beginning of each team name\n",
    "df_yearly_team_stats['Team'] = df_yearly_team_stats['Team'].str.replace(r'^\\d+', '', regex=True).str.strip()\n",
    "\n",
    "# Remove emoji from Teams that won championship\n",
    "df_yearly_team_stats['Team'] = df_yearly_team_stats['Team'].apply(lambda x: re.sub(r'[^\\w\\s]', '', x))\n",
    "\n",
    "# Drop Playoff Columns (Index 18 to 31)\n",
    "df_yearly_team_stats = df_yearly_team_stats.iloc[:, :18]\n",
    "\n",
    "# Convert columns to proper data type\n",
    "df_yearly_team_stats['Year'] = df_yearly_team_stats['Year'].astype(int)\n",
    "df_yearly_team_stats['TR'] = pd.to_numeric(df_yearly_team_stats['TR'], errors='coerce')\n",
    "df_yearly_team_stats['Age'] = pd.to_numeric(df_yearly_team_stats['Age'], errors='coerce')\n",
    "df_yearly_team_stats['W'] = pd.to_numeric(df_yearly_team_stats['W'], errors='coerce')\n",
    "df_yearly_team_stats['L'] = pd.to_numeric(df_yearly_team_stats['L'], errors='coerce')\n",
    "df_yearly_team_stats['SRS'] = pd.to_numeric(df_yearly_team_stats['SRS'], errors='coerce')\n",
    "df_yearly_team_stats['ORtg'] = pd.to_numeric(df_yearly_team_stats['ORtg'], errors='coerce')\n",
    "df_yearly_team_stats['rORtg'] = pd.to_numeric(df_yearly_team_stats['rORtg'], errors='coerce')\n",
    "df_yearly_team_stats['DRtg'] = pd.to_numeric(df_yearly_team_stats['DRtg'], errors='coerce')\n",
    "df_yearly_team_stats['rDRtg'] = pd.to_numeric(df_yearly_team_stats['rDRtg'], errors='coerce')\n",
    "df_yearly_team_stats['NRtg'] = pd.to_numeric(df_yearly_team_stats['NRtg'], errors='coerce')\n",
    "df_yearly_team_stats['Pace'] = pd.to_numeric(df_yearly_team_stats['Pace'], errors='coerce')\n",
    "df_yearly_team_stats['rPace'] = pd.to_numeric(df_yearly_team_stats['rPace'], errors='coerce')\n",
    "df_yearly_team_stats['FTr'] = pd.to_numeric(df_yearly_team_stats['FTr'], errors='coerce')\n",
    "df_yearly_team_stats['rFTr'] = pd.to_numeric(df_yearly_team_stats['rFTr'], errors='coerce')\n",
    "df_yearly_team_stats['TS%'] = pd.to_numeric(df_yearly_team_stats['TS%'], errors='coerce')\n",
    "df_yearly_team_stats['rTS%'] = pd.to_numeric(df_yearly_team_stats['rTS%'], errors='coerce')\n",
    "\n",
    "# Drop Years prior to 2016\n",
    "df_yearly_team_stats = df_yearly_team_stats[df_yearly_team_stats['Year'] >= 2016]\n",
    "\n",
    "# Perform one hot encoding on Team column \n",
    "nba_teams = [\n",
    "    \"Atlanta Hawks\", \"Boston Celtics\", \"Brooklyn Nets\", \"Charlotte Hornets\", \"Chicago Bulls\",\n",
    "    \"Cleveland Cavaliers\", \"Dallas Mavericks\", \"Denver Nuggets\", \"Detroit Pistons\",\n",
    "    \"Golden State Warriors\", \"Houston Rockets\", \"Indiana Pacers\", \"Los Angeles Clippers\",\n",
    "    \"Los Angeles Lakers\", \"Memphis Grizzlies\", \"Miami Heat\", \"Milwaukee Bucks\",\n",
    "    \"Minnesota Timberwolves\", \"New Orleans Pelicans\", \"New York Knicks\",\n",
    "    \"Oklahoma City Thunder\", \"Orlando Magic\", \"Philadelphia 76ers\", \"Phoenix Suns\",\n",
    "    \"Portland Trail Blazers\", \"Sacramento Kings\", \"San Antonio Spurs\", \"Toronto Raptors\",\n",
    "    \"Utah Jazz\", \"Washington Wizards\"\n",
    "]\n",
    "\n",
    "# Concat into 1 df\n",
    "df_one_hot_encoded = pd.get_dummies(df_yearly_team_stats['Team'])\n",
    "df_one_hot_encoded = df_one_hot_encoded.reindex(columns=nba_teams, fill_value=0)\n",
    "df_yearly_team_stats = pd.concat([df_yearly_team_stats, df_one_hot_encoded], axis=1)\n",
    "\n",
    "# Drop Team column \n",
    "df_yearly_team_stats = df_yearly_team_stats.drop(columns=['Team'])\n",
    "\n",
    "\n"
   ]
  },
  {
   "cell_type": "code",
   "execution_count": 4,
   "metadata": {},
   "outputs": [],
   "source": [
    "# Save to CSV\n",
    "df_yearly_team_stats.to_csv('df_yearly_team_stats.csv', index=False)\n"
   ]
  },
  {
   "cell_type": "code",
   "execution_count": 5,
   "metadata": {},
   "outputs": [
    {
     "name": "stdout",
     "output_type": "stream",
     "text": [
      "     Year    TR   Age   W   L   SRS   ORtg  rORtg   DRtg  rDRtg  ...  \\\n",
      "0    2024  14.0  28.2  64  18  10.8  123.2    8.6  111.6   -3.0  ...   \n",
      "1    2024   9.3  27.2  56  26   6.4  115.6    1.0  109.0   -5.6  ...   \n",
      "2    2024   9.1  23.4  57  25   7.4  119.5    4.9  112.1   -2.5  ...   \n",
      "3    2024   7.8  26.5  50  32   2.3  117.6    3.0  115.4    0.8  ...   \n",
      "4    2024   5.8  25.3  47  35   2.8  121.0    6.4  118.0    3.4  ...   \n",
      "..    ...   ...   ...  ..  ..   ...    ...    ...    ...    ...  ...   \n",
      "265  2016  -4.6  30.5  42  40  -2.1  105.4   -1.0  107.8    1.4  ...   \n",
      "266  2016  -7.1  26.0  23  59  -6.3  102.2   -4.2  109.0    2.6  ...   \n",
      "267  2016  -7.9  26.9  21  61  -7.1  103.2   -3.2  110.9    4.5  ...   \n",
      "268  2016  -9.9  26.5  17  65  -8.9  101.6   -4.8  111.6    5.2  ...   \n",
      "269  2016 -11.2  23.3  10  72  -9.9   98.8   -7.6  109.2    2.8  ...   \n",
      "\n",
      "     Oklahoma City Thunder  Orlando Magic  Philadelphia 76ers  Phoenix Suns  \\\n",
      "0                    False          False               False         False   \n",
      "1                    False          False               False         False   \n",
      "2                     True          False               False         False   \n",
      "3                    False          False               False         False   \n",
      "4                    False          False               False         False   \n",
      "..                     ...            ...                 ...           ...   \n",
      "265                  False          False               False         False   \n",
      "266                  False          False               False          True   \n",
      "267                  False          False               False         False   \n",
      "268                  False          False               False         False   \n",
      "269                  False          False                True         False   \n",
      "\n",
      "     Portland Trail Blazers  Sacramento Kings  San Antonio Spurs  \\\n",
      "0                     False             False              False   \n",
      "1                     False             False              False   \n",
      "2                     False             False              False   \n",
      "3                     False             False              False   \n",
      "4                     False             False              False   \n",
      "..                      ...               ...                ...   \n",
      "265                   False             False              False   \n",
      "266                   False             False              False   \n",
      "267                   False             False              False   \n",
      "268                   False             False              False   \n",
      "269                   False             False              False   \n",
      "\n",
      "     Toronto Raptors  Utah Jazz  Washington Wizards  \n",
      "0              False      False               False  \n",
      "1              False      False               False  \n",
      "2              False      False               False  \n",
      "3              False      False               False  \n",
      "4              False      False               False  \n",
      "..               ...        ...                 ...  \n",
      "265            False      False               False  \n",
      "266            False      False               False  \n",
      "267            False      False               False  \n",
      "268            False      False               False  \n",
      "269            False      False               False  \n",
      "\n",
      "[270 rows x 47 columns]\n"
     ]
    }
   ],
   "source": [
    "print (df_yearly_team_stats)"
   ]
  },
  {
   "cell_type": "markdown",
   "metadata": {},
   "source": [
    "Feature Selection"
   ]
  },
  {
   "cell_type": "code",
   "execution_count": null,
   "metadata": {},
   "outputs": [],
   "source": [
    "# Define Features \n",
    "X = df_yearly_team_stats.drop(columns=['ORtg'])\n",
    "y = df_yearly_team_stats['ORtg']"
   ]
  },
  {
   "cell_type": "code",
   "execution_count": null,
   "metadata": {},
   "outputs": [],
   "source": [
    "# Correlation matrix\n",
    "df_plot = df_yearly_team_stats.iloc[:, 0:17]\n",
    "corr_matrix = df_plot.corr()\n",
    "plt.figure(figsize=(12, 8))\n",
    "sns.heatmap(corr_matrix, annot=True, cmap='coolwarm')\n",
    "plt.show()"
   ]
  },
  {
   "cell_type": "code",
   "execution_count": null,
   "metadata": {},
   "outputs": [],
   "source": []
  }
 ],
 "metadata": {
  "kernelspec": {
   "display_name": "Python 3",
   "language": "python",
   "name": "python3"
  },
  "language_info": {
   "codemirror_mode": {
    "name": "ipython",
    "version": 3
   },
   "file_extension": ".py",
   "mimetype": "text/x-python",
   "name": "python",
   "nbconvert_exporter": "python",
   "pygments_lexer": "ipython3",
   "version": "3.11.3"
  }
 },
 "nbformat": 4,
 "nbformat_minor": 2
}
